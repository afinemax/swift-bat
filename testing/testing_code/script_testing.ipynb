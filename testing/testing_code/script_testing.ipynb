{
 "cells": [
  {
   "cell_type": "code",
   "execution_count": 1,
   "id": "71994d8c",
   "metadata": {},
   "outputs": [],
   "source": [
    "#=============================================================================#\n",
    "#                                                                             #\n",
    "# The MIT License (MIT)                                                       #\n",
    "#                                                                             #\n",
    "# Copyright (c) 2022 Maxwell A. Fine                                          #\n",
    "#                                                                             #\n",
    "# Permission is hereby granted, free of charge, to any person obtaining a     #\n",
    "# copy of this software and associated documentation files (the \"Software\"),  #\n",
    "# to deal in the Software without restriction, including without limitation   #\n",
    "# the rights to use, copy, modify, merge, publish, distribute, sublicense,    #\n",
    "# and/or sell copies of the Software, and to permit persons to whom the       #\n",
    "# Software is furnished to do so, subject to the following conditions:        #\n",
    "#                                                                             #\n",
    "# The above copyright notice and this permission notice shall be included in  #\n",
    "# all copies or substantial portions of the Software.                         #\n",
    "#                                                                             #\n",
    "# THE SOFTWARE IS PROVIDED \"AS IS\", WITHOUT WARRANTY OF ANY KIND, EXPRESS OR  #\n",
    "# IMPLIED, INCLUDING BUT NOT LIMITED TO THE WARRANTIES OF MERCHANTABILITY,    #\n",
    "# FITNESS FOR A PARTICULAR PURPOSE AND NONINFRINGEMENT. IN NO EVENT SHALL THE #\n",
    "# AUTHORS OR COPYRIGHT HOLDERS BE LIABLE FOR ANY CLAIM, DAMAGES OR OTHER      #\n",
    "# LIABILITY, WHETHER IN AN ACTION OF CONTRACT, TORT OR OTHERWISE, ARISING     #\n",
    "# FROM, OUT OF OR IN CONNECTION WITH THE SOFTWARE OR THE USE OR OTHER         #\n",
    "# DEALINGS IN THE SOFTWARE.                                                   #\n",
    "#                                                                             #\n",
    "#=============================================================================#\n",
    "# imports\n",
    "import numpy as np\n",
    "import matplotlib as pyplot\n",
    "from astropy.io import fits\n",
    "\n",
    "\n",
    "import os, sys, time, shutil\n",
    "import astropy.io.fits as pyfits\n",
    "import numpy as np\n",
    "import re\n",
    "#from swiftmonitor.utils import execute_cmd, region\n",
    "\n",
    "import subprocess # for running shell commands\n",
    "\n",
    "#-------------------------------------------------------------------------------\n",
    "# arguments\n",
    "results = '../results' # maybe I'll save stuff in the corresponding swift id dir? that seems reasonable\n",
    "file_ext = '.pdf' # for the outputted plots\n",
    "data_dir = '../data' # will loop through every dir for the bat data\n",
    "\n",
    "# args\n",
    "clobber = True # if true remakes/overwrites files\n",
    "time_res = 1 # seconds?\n",
    "energy_bins = 14-175\n",
    "source_id = '00010374156'\n",
    "evt_file = 'sw00010374156bevshsl_uf.evt.gz'\n",
    "\n",
    "\n",
    "events = '/bat/event'\n",
    "event_dir = data_dir + '/' + source_id + events\n",
    "hk_dir = data_dir + '/' +source_id + '/bat/hk'\n",
    "results_dir = results + '/' + source_id\n",
    "#-----------------------------------------------------------------------------#\n",
    "def get_swift_ids_data(data_dir):\n",
    "    '''make list of swift IDS from the data dir'''\n",
    "    output = subprocess.check_output([\"ls\",],universal_newlines=True, cwd= data_dir)\n",
    "    source_ids = output.split() # list of strings the source IDs\n",
    "\n",
    "    # pop off these dirs if they exist in the list\n",
    "    source_ids.remove('GUANO')\n",
    "    source_ids.remove('dump')\n",
    "    source_ids.remove('inventory')\n",
    "    source_ids.remove('-')\n",
    "    source_ids.remove('GUANO')\n",
    "    source_ids.remove('triggers.tsv')\n",
    "    source_ids.remove('skycoords.dat')\n",
    "    return source_ids\n",
    "#-----------------------------------------------------------------------------#\n",
    "def get_evt_files(event_dir):\n",
    "    'makes a list of the evt files in a swift bat dir'\n",
    "    bat_event_data = subprocess.check_output([\"ls\",],universal_newlines=True,\n",
    "    cwd= event_dir)\n",
    "    evt_files = bat_event_data.split()\n",
    "    return evt_files\n",
    "#-----------------------------------------------------------------------------#\n",
    "def get_dir_trees(source_ids,data_dir,results):\n",
    "    '''makes dicts of event, hk, and results dirs'''\n",
    "\n",
    "    events = '/bat/event'\n",
    "\n",
    "    event_dir = {}\n",
    "    hk_dir = {}\n",
    "    results_dir= {}\n",
    "    for i in source_ids:\n",
    "        source_id = i\n",
    "        event_dir[i] = data_dir + '/' + source_id + events\n",
    "        hk_dir[i] = data_dir + '/' +source_id + '/bat/hk'\n",
    "        results_dir[i] = results + '/' + source_id\n",
    "\n",
    "    return event_dir, hk_dir, results_dir\n",
    "#-----------------------------------------------------------------------------#\n",
    "def run_heasoft(source_id, evt_file, results, event_dir, hk_dir,\n",
    "                results_dir, clobber=clobber, energy_bins=14-175, time_res=1):\n",
    "    '''Wrapper function that runs the main heasoft commands, and produces results\n",
    "\n",
    "    Args:\n",
    "    '''\n",
    "\n",
    "    j = evt_file\n",
    "\n",
    "    # make entry in results dir based on swift id\n",
    "    subprocess.run(['mkdir ' + str(source_id)], cwd= results, shell=True) # change 0 to i when making wrapper!!\n",
    "\n",
    "    # make DPI\n",
    "    subprocess.run(['batbinevt ' + str(j) + ' weighted=no '\n",
    "    + 'outunits=counts outtype=dpi energy=-'\n",
    "    +' clobber=' + str(clobber)\n",
    "    +' outfile= frb.dpi'] , cwd = event_dir, shell=True)\n",
    "\n",
    "    # move frb.dpi and (copy) det mask, event file. attitude file into results dir\n",
    "    subprocess.run(['mv ' +str(event_dir) + '/frb.dpi '\n",
    "                     + str(results_dir) + '/frb.dpi'  ],\n",
    "                    shell=True, cwd = '../data')\n",
    "\n",
    "    subprocess.run(['cp ' +str(hk_dir) + '/sw' + str(source_id) + 'bdecb.hk.gz '\n",
    "                   + str(results_dir) + '/sw' + str(source_id) + 'bdecb.hk.gz'  ],\n",
    "                   shell=True, cwd = '../data')\n",
    "\n",
    "    subprocess.run(['cp data/' +str(source_id) + '/auxil/sw' + str(source_id) + 'sat.fits.gz '\n",
    "                   + 'data/' + str(results_dir) + '/sw' + str(source_id) + 'sat.fits.gz' ],\n",
    "                   shell=True, cwd = '..')\n",
    "\n",
    "    subprocess.run(['cp data/' +str(source_id) + '/bat/event/' + str(j) + ' '\n",
    "                   + 'data/' + str(results_dir) + '/' + str(j) ],\n",
    "                   shell=True, cwd = '..')\n",
    "\n",
    "    # make mask\n",
    "    subprocess.run(['bathotpix detmask=sw' + str(source_id)\n",
    "                    + 'bdecb.hk.gz outfile = frb.mask clobber =' + str(clobber) ],\n",
    "                   shell=True, cwd=results_dir)\n",
    "\n",
    "    # make lc with heasoft\n",
    "    # should I set energy bins here and time res?\n",
    "    subprocess.run(['batbinevt detmask=frb.mask ' + str(j)\n",
    "                + ' timedel = ' + str(time_res)  + ' weighted=no outtype=lc energybins=- outfile =frb.heasoft.lc clobber ='\n",
    "                + str(clobber) ],\n",
    "                   shell=True, cwd=results_dir)\n",
    "\n",
    "   # make frb2_dpi\n",
    "   # this one should contain our target source\n",
    "   # need to add target_time and time size stuff\n",
    "   # I am unsure if the timedel is correct here\n",
    "    subprocess.run(['batbinevt '  + str(j)\n",
    "                + ' outfile =frb2.dpi energybins=' +str(energy_bins)\n",
    "                + ' clobber= ' + str(clobber) + ' outtype=dpi detmask=frb.mask timedel = 0'\n",
    "                + ' tstart=639072334.000000 tstop=639072896.800600' ],\n",
    "               shell=True, cwd=results_dir)\n",
    "\n",
    "    # make bkg.dpi\n",
    "    # this one uses a off event time size to make a background dpi\n",
    "    subprocess.run(['batbinevt '  + str(j)\n",
    "                + ' outfile =bkg.dpi energybins=' +str(energy_bins)\n",
    "                + ' clobber= ' + str(clobber) + ' outtype=dpi detmask=frb.mask timedel = 0'\n",
    "                + ' tstart=639072334.000000 tstop=639072896.800600' ],\n",
    "               shell=True, cwd=results_dir)\n",
    "\n",
    "    # make sky image\n",
    "    subprocess.run(['batfftimage frb2.dpi attitude = sw' + str(source_id) + 'sat.fits.gz detmask=frb.mask'\n",
    "                   + ' outfile = frb.sky bkgfile=bkg.dpi clobber =' + str(clobber)],\n",
    "                   shell=True, cwd = results_dir)\n",
    "\n",
    "    # run heasoft source finder\n",
    "    subprocess.run(['batcelldetect frb.sky outfile=cat.fits'], shell=True, cwd = results_dir)\n",
    "\n",
    "\n",
    "\n",
    "    return\n",
    "#-----------------------------------------------------------------------------#\n",
    "def run_search():\n",
    "    \"\"\" runs search over all bat files in data dir that correspond to FRBS with\n",
    "    localizations\"\"\"\n",
    "    swift_ids = get_swift_ids_data(data_dir)\n",
    "    source_ids = swift_ids\n",
    "    event_dir, hk_dir, results_dir = get_dir_trees(source_ids,data_dir,results)\n",
    "    for i in range(len(swift_ids)):\n",
    "\n",
    "        swift_id = swift_ids[i]\n",
    "        evt_files = get_evt_files(event_dir[swift_id])\n",
    "        for j in evt_files:\n",
    "            run_heasoft(swift_id, j, results, event_dir[swift_id],\n",
    "            hk_dir[swift_id], results_dir[swift_id], clobber=clobber, energy_bins=14-175, time_res=1)\n",
    "\n",
    "\n",
    "#-----------------------------------------------------------------------------#\n",
    "def main():\n",
    "    import argparse\n",
    "    \"\"\"\n",
    "    Start the function to perform RM-synthesis if called from the command line.\n",
    "    \"\"\"\n",
    "    # Help string to be shown using the -h option\n",
    "    descStr = \"\"\"\n",
    "    to be written later\"\"\"\n",
    "\n",
    "\n",
    "    epilog_text=\"\"\"\n",
    "    to be written later\n",
    "    \"\"\"\n",
    "    # Parse the command line options\n",
    "    parser = argparse.ArgumentParser(description=descStr,epilog=epilog_text,\n",
    "                                 formatter_class=argparse.RawTextHelpFormatter)\n",
    "\n",
    "    # add arguments like this\n",
    "    #parser.add_argument(\"-U\", dest=\"units\", type=str, default=\"Jy/beam\",\n",
    "        #                help=\"Intensity units of the data. [Jy/beam]\")\n",
    "    #units          = args.units\n",
    "    args = parser.parse_args()\n",
    "\n",
    "    #run_search()\n",
    "\n",
    "\n"
   ]
  },
  {
   "cell_type": "code",
   "execution_count": 2,
   "id": "9465a49b",
   "metadata": {},
   "outputs": [],
   "source": [
    "# we want to open our .tsv and read out the swift ids that correspond to FRB localizations\n",
    "# and make our swift_id list from that, maybe even have the option to redownload the data?\n",
    "\n",
    "\n",
    "\n",
    "def get_swift_ids_data(data_dir):\n",
    "    '''make list of swift IDS from the data dir'''\n",
    "    output = subprocess.check_output([\"ls\",],universal_newlines=True, cwd= data_dir)\n",
    "    source_ids = output.split() # list of strings the source IDs\n",
    "\n",
    "    # pop off these dirs if they exist in the list\n",
    "    source_ids.remove('GUANO')\n",
    "    source_ids.remove('dump')\n",
    "    source_ids.remove('inventory')\n",
    "    source_ids.remove('-')\n",
    "    source_ids.remove('GUANO')\n",
    "    source_ids.remove('triggers.tsv')\n",
    "    source_ids.remove('skycoords.dat')\n",
    "    return source_ids\n",
    "    "
   ]
  },
  {
   "cell_type": "code",
   "execution_count": 3,
   "id": "dac7cc03",
   "metadata": {},
   "outputs": [
    {
     "name": "stderr",
     "output_type": "stream",
     "text": [
      "/tmp/ipykernel_5380/2611413336.py:5: VisibleDeprecationWarning: Reading unicode strings without specifying the encoding argument is deprecated. Set the encoding, use None for the system default.\n",
      "  gauno_dump_data = np.genfromtxt(guano_path,delimiter='\\t', skip_header=1, dtype= None) # did not skip header\n"
     ]
    }
   ],
   "source": [
    "data_path = '../data'\n",
    "guano_dump = 'GUANO dump inventory - GUANO triggers.tsv'\n",
    "guano_path = data_path + '/' + guano_dump\n",
    "\n",
    "gauno_dump_data = np.genfromtxt(guano_path,delimiter='\\t', skip_header=1, dtype= None) # did not skip header\n",
    "#ids = gauno_dump_data[:,0] # missing leading zeros! \n",
    "\n",
    "#tsar_bb = gauno_dump_data[:,-1]"
   ]
  },
  {
   "cell_type": "code",
   "execution_count": 4,
   "id": "ce93bc1d",
   "metadata": {},
   "outputs": [],
   "source": [
    "# function to read relevent info from guano dump inventory\n",
    "\n",
    "# expecting a .tsv file!\n",
    "# we want swift IDS, \n",
    "# chime_trigger_time\n",
    "# Tsar good, has BB\n",
    "# Chime event ID - will make a results file with a summary for each and then an overall results\n",
    "\n"
   ]
  },
  {
   "cell_type": "code",
   "execution_count": 5,
   "id": "f9d6c984",
   "metadata": {},
   "outputs": [],
   "source": [
    "#swift ID,Trigger time,CHIME id, Tsar ratings, S/N,DM,Baseband processing status,nfreq, Tsar good has BB, Tsar good, no BB"
   ]
  },
  {
   "cell_type": "code",
   "execution_count": 83,
   "id": "173c74da",
   "metadata": {},
   "outputs": [],
   "source": [
    "\n",
    "def get_gauno_info(data_dir):\n",
    "    \n",
    "    guano_dump = 'GUANO dump inventory - GUANO triggers.tsv'\n",
    "    guano_path = data_path + '/' + guano_dump\n",
    "    swift_ids = np.zeros(len(gauno_dump_data))\n",
    "    chime_trigger = []\n",
    "    chime_ids = []\n",
    "    tsar_bb = []\n",
    "    index_del = []\n",
    "\n",
    "    # we want the ones with tsar_good and bb == True right? \n",
    "    for i in range(len(gauno_dump_data)):\n",
    "        swift_ids[i] = gauno_dump_data[i][0]\n",
    "        \n",
    "        tsar_bb.append(gauno_dump_data[i][-2]) # this is a b'string' format\n",
    "        if tsar_bb[i] == b'TRUE':\n",
    "            tsar_bb[i] = True\n",
    "            chime_trigger.append(gauno_dump_data[i][1]) # this is a b'string' format \n",
    "            chime_ids.append(gauno_dump_data[i][2]) # this is a b'string' format\n",
    "        elif tsar_bb[i] == b'FALSE':\n",
    "            tsar_bb[i] = False\n",
    "        else:\n",
    "            index_del.append(i)\n",
    "        # I assume this stays in order but gauno_dump format should change\n",
    "    tsar_arr = np.asarray(tsar_bb[0:min(index_del)])\n",
    "    index_arr = np.where(tsar_arr == True)\n",
    "    swift_ids = swift_ids[index_arr[0]]\n",
    "    return swift_ids, tsar_arr, chime_ids, chime_trigger\n",
    "\n"
   ]
  },
  {
   "cell_type": "code",
   "execution_count": 7,
   "id": "2c353044",
   "metadata": {
    "scrolled": false
   },
   "outputs": [],
   "source": [
    "#tsar_arr = np.asarray(tsar_bb)"
   ]
  },
  {
   "cell_type": "code",
   "execution_count": 28,
   "id": "bfbd4a9d",
   "metadata": {
    "scrolled": false
   },
   "outputs": [
    {
     "data": {
      "text/plain": [
       "14807020.0"
      ]
     },
     "execution_count": 28,
     "metadata": {},
     "output_type": "execute_result"
    }
   ],
   "source": [
    "swift_ids[0]"
   ]
  },
  {
   "cell_type": "code",
   "execution_count": 85,
   "id": "a827406e",
   "metadata": {},
   "outputs": [],
   "source": [
    "for i in range(len(swift_ids)):\n",
    "    id_len = len(str(int(swift_ids[i])))\n",
    "    swift_ids[i] = int('0' * (11-id_len) + str(int(swift_ids[i])))"
   ]
  },
  {
   "cell_type": "code",
   "execution_count": 84,
   "id": "98836751",
   "metadata": {},
   "outputs": [],
   "source": [
    "swift_ids, tsar_arr, chime_ids, chime_trigger = get_gauno_info(data_dir)"
   ]
  },
  {
   "cell_type": "code",
   "execution_count": 72,
   "id": "49259fa9",
   "metadata": {},
   "outputs": [
    {
     "data": {
      "text/plain": [
       "b'2022-01-05 12:24:00'"
      ]
     },
     "execution_count": 72,
     "metadata": {},
     "output_type": "execute_result"
    }
   ],
   "source": [
    "chime_trigger[0]"
   ]
  },
  {
   "cell_type": "code",
   "execution_count": 16,
   "id": "fcb943d7",
   "metadata": {},
   "outputs": [],
   "source": [
    "# need to convert chime_trigger to be in MET for swift (in seconds)\n",
    "# read evt file time ? \n",
    "\n",
    "# center trigger with range (taken as arguments)\n",
    "# similar method for the background stops 20s before and is all the evt data before\n",
    "\n",
    "# need to pop open image and make LC, estimate SNR? \n",
    "# need to cross ref cat with ra,dec and min, max time resolution\n",
    "# make a json for key results IE best SNR, with correspondong time window info and RA, DEC and report heafsoft\n",
    "# with my own \n",
    "\n",
    "from swifttools.swift_too import Clock, ObsQuery, VisQuery\n",
    "from datetime import datetime,timedelta"
   ]
  },
  {
   "cell_type": "code",
   "execution_count": 17,
   "id": "8619d1c4",
   "metadata": {},
   "outputs": [
    {
     "data": {
      "text/html": [
       "<table><thead><th style='text-align: left;'>MET (s)</th><th style='text-align: left;'>Swift Time (default)</th><th style='text-align: left;'>UTC Time</th><th style='text-align: left;'>UTCF (s)</th></thead><tr><td style='text-align: left;'>662688000.0</td><td style='text-align: left;'>2022-01-01 00:00:00</td><td style='text-align: left;'>2021-12-31 23:59:31.643287</td><td style='text-align: left;'>-28.356713</td></tr></table>"
      ],
      "text/plain": [
       "Swift_Clock(username='anonymous',met='662688000.0',swifttime='2022-01-01 00:00:00',utctime='2021-12-31 23:59:31.643287')"
      ]
     },
     "execution_count": 17,
     "metadata": {},
     "output_type": "execute_result"
    }
   ],
   "source": [
    "cc = Clock(swifttime='2022-01-01 00:00:00')\n",
    "cc"
   ]
  },
  {
   "cell_type": "code",
   "execution_count": 32,
   "id": "1389ca66",
   "metadata": {},
   "outputs": [],
   "source": [
    "cc = Clock(utctime = b'2022-01-05 12:24:00'.decode(\"utf-8\") )"
   ]
  },
  {
   "cell_type": "code",
   "execution_count": 33,
   "id": "2ec96c67",
   "metadata": {},
   "outputs": [
    {
     "data": {
      "text/html": [
       "<table><thead><th style='text-align: left;'>MET (s)</th><th style='text-align: left;'>Swift Time</th><th style='text-align: left;'>UTC Time (default)</th><th style='text-align: left;'>UTCF (s)</th></thead><tr><td style='text-align: left;'>663078268.383033</td><td style='text-align: left;'>2022-01-05 12:24:28.383033</td><td style='text-align: left;'>2022-01-05 12:24:00</td><td style='text-align: left;'>-28.383033</td></tr></table>"
      ],
      "text/plain": [
       "Swift_Clock(username='anonymous',met='663078268.383033',swifttime='2022-01-05 12:24:28.383033',utctime='2022-01-05 12:24:00')"
      ]
     },
     "execution_count": 33,
     "metadata": {},
     "output_type": "execute_result"
    }
   ],
   "source": [
    "cc"
   ]
  },
  {
   "cell_type": "code",
   "execution_count": 22,
   "id": "0ef42a27",
   "metadata": {},
   "outputs": [
    {
     "data": {
      "text/plain": [
       "663078268.383033"
      ]
     },
     "execution_count": 22,
     "metadata": {},
     "output_type": "execute_result"
    }
   ],
   "source": [
    "cc.mettime"
   ]
  },
  {
   "cell_type": "code",
   "execution_count": 79,
   "id": "7be074f1",
   "metadata": {},
   "outputs": [],
   "source": [
    "from tqdm import tqdm\n",
    "# make dict of MET_chime_trigger\n",
    "\n",
    "def get_swift_time_from_chime(chime_trigger, swift_ids):\n",
    "    MET_chime_trigger = {}\n",
    "    for i in range(len(chime_trigger)):\n",
    "        swift_id = swift_ids[i]\n",
    "        #chime_trigger[i] = chime_trigger[i][1:]\n",
    "        cc = Clock(utctime = chime_trigger[i].decode(\"utf-8\") )\n",
    "        MET_chime_trigger[swift_id] = cc.mettime\n",
    "        \n",
    "    return MET_chime_trigger"
   ]
  },
  {
   "cell_type": "code",
   "execution_count": null,
   "id": "f9180a78",
   "metadata": {},
   "outputs": [],
   "source": [
    "import time\n",
    "\n",
    "start = time.time()\n",
    "print(\"hello\")\n",
    "end = time.time()\n",
    "print(end - start)"
   ]
  },
  {
   "cell_type": "code",
   "execution_count": 93,
   "id": "b52c8cd7",
   "metadata": {},
   "outputs": [
    {
     "ename": "KeyboardInterrupt",
     "evalue": "",
     "output_type": "error",
     "traceback": [
      "\u001b[0;31m---------------------------------------------------------------------------\u001b[0m",
      "\u001b[0;31mKeyboardInterrupt\u001b[0m                         Traceback (most recent call last)",
      "\u001b[0;32m/tmp/ipykernel_5380/1989309007.py\u001b[0m in \u001b[0;36m<module>\u001b[0;34m\u001b[0m\n\u001b[1;32m      1\u001b[0m \u001b[0mstart\u001b[0m \u001b[0;34m=\u001b[0m \u001b[0mtime\u001b[0m\u001b[0;34m.\u001b[0m\u001b[0mtime\u001b[0m\u001b[0;34m(\u001b[0m\u001b[0;34m)\u001b[0m\u001b[0;34m\u001b[0m\u001b[0;34m\u001b[0m\u001b[0m\n\u001b[0;32m----> 2\u001b[0;31m \u001b[0mtest\u001b[0m \u001b[0;34m=\u001b[0m \u001b[0mget_swift_time_from_chime\u001b[0m\u001b[0;34m(\u001b[0m\u001b[0mchime_trigger\u001b[0m\u001b[0;34m,\u001b[0m \u001b[0mswift_ids\u001b[0m\u001b[0;34m)\u001b[0m\u001b[0;34m\u001b[0m\u001b[0;34m\u001b[0m\u001b[0m\n\u001b[0m\u001b[1;32m      3\u001b[0m \u001b[0mend\u001b[0m \u001b[0;34m=\u001b[0m \u001b[0mtime\u001b[0m\u001b[0;34m.\u001b[0m\u001b[0mtime\u001b[0m\u001b[0;34m(\u001b[0m\u001b[0;34m)\u001b[0m\u001b[0;34m\u001b[0m\u001b[0;34m\u001b[0m\u001b[0m\n\u001b[1;32m      4\u001b[0m \u001b[0mprint\u001b[0m\u001b[0;34m(\u001b[0m\u001b[0mend\u001b[0m \u001b[0;34m-\u001b[0m \u001b[0mstart\u001b[0m\u001b[0;34m)\u001b[0m\u001b[0;34m\u001b[0m\u001b[0;34m\u001b[0m\u001b[0m\n",
      "\u001b[0;32m/tmp/ipykernel_5380/384467726.py\u001b[0m in \u001b[0;36mget_swift_time_from_chime\u001b[0;34m(chime_trigger, swift_ids)\u001b[0m\n\u001b[1;32m      7\u001b[0m         \u001b[0mswift_id\u001b[0m \u001b[0;34m=\u001b[0m \u001b[0mswift_ids\u001b[0m\u001b[0;34m[\u001b[0m\u001b[0mi\u001b[0m\u001b[0;34m]\u001b[0m\u001b[0;34m\u001b[0m\u001b[0;34m\u001b[0m\u001b[0m\n\u001b[1;32m      8\u001b[0m         \u001b[0;31m#chime_trigger[i] = chime_trigger[i][1:]\u001b[0m\u001b[0;34m\u001b[0m\u001b[0;34m\u001b[0m\u001b[0m\n\u001b[0;32m----> 9\u001b[0;31m         \u001b[0mcc\u001b[0m \u001b[0;34m=\u001b[0m \u001b[0mClock\u001b[0m\u001b[0;34m(\u001b[0m\u001b[0mutctime\u001b[0m \u001b[0;34m=\u001b[0m \u001b[0mchime_trigger\u001b[0m\u001b[0;34m[\u001b[0m\u001b[0mi\u001b[0m\u001b[0;34m]\u001b[0m\u001b[0;34m.\u001b[0m\u001b[0mdecode\u001b[0m\u001b[0;34m(\u001b[0m\u001b[0;34m\"utf-8\"\u001b[0m\u001b[0;34m)\u001b[0m \u001b[0;34m)\u001b[0m\u001b[0;34m\u001b[0m\u001b[0;34m\u001b[0m\u001b[0m\n\u001b[0m\u001b[1;32m     10\u001b[0m         \u001b[0mMET_chime_trigger\u001b[0m\u001b[0;34m[\u001b[0m\u001b[0mswift_id\u001b[0m\u001b[0;34m]\u001b[0m \u001b[0;34m=\u001b[0m \u001b[0mcc\u001b[0m\u001b[0;34m.\u001b[0m\u001b[0mmettime\u001b[0m\u001b[0;34m\u001b[0m\u001b[0;34m\u001b[0m\u001b[0m\n\u001b[1;32m     11\u001b[0m \u001b[0;34m\u001b[0m\u001b[0m\n",
      "\u001b[0;32m~/anaconda3/lib/python3.9/site-packages/swifttools/swift_too/swift_clock.py\u001b[0m in \u001b[0;36m__init__\u001b[0;34m(self, *args, **kwargs)\u001b[0m\n\u001b[1;32m     73\u001b[0m         \u001b[0;31m# Submit if enough parameters are passed to the constructor\u001b[0m\u001b[0;34m\u001b[0m\u001b[0;34m\u001b[0m\u001b[0m\n\u001b[1;32m     74\u001b[0m         \u001b[0;32mif\u001b[0m \u001b[0mself\u001b[0m\u001b[0;34m.\u001b[0m\u001b[0mvalidate\u001b[0m\u001b[0;34m(\u001b[0m\u001b[0;34m)\u001b[0m\u001b[0;34m:\u001b[0m\u001b[0;34m\u001b[0m\u001b[0;34m\u001b[0m\u001b[0m\n\u001b[0;32m---> 75\u001b[0;31m             \u001b[0mself\u001b[0m\u001b[0;34m.\u001b[0m\u001b[0msubmit\u001b[0m\u001b[0;34m(\u001b[0m\u001b[0;34m)\u001b[0m\u001b[0;34m\u001b[0m\u001b[0;34m\u001b[0m\u001b[0m\n\u001b[0m\u001b[1;32m     76\u001b[0m         \u001b[0;32melse\u001b[0m\u001b[0;34m:\u001b[0m\u001b[0;34m\u001b[0m\u001b[0;34m\u001b[0m\u001b[0m\n\u001b[1;32m     77\u001b[0m             \u001b[0mself\u001b[0m\u001b[0;34m.\u001b[0m\u001b[0mstatus\u001b[0m\u001b[0;34m.\u001b[0m\u001b[0mclear\u001b[0m\u001b[0;34m(\u001b[0m\u001b[0;34m)\u001b[0m\u001b[0;34m\u001b[0m\u001b[0;34m\u001b[0m\u001b[0m\n",
      "\u001b[0;32m~/anaconda3/lib/python3.9/site-packages/swifttools/swift_too/common.py\u001b[0m in \u001b[0;36msubmit\u001b[0;34m(self, timeout, post)\u001b[0m\n\u001b[1;32m    536\u001b[0m         \u001b[0;31m# Submit the job to the queue\u001b[0m\u001b[0;34m\u001b[0m\u001b[0;34m\u001b[0m\u001b[0m\n\u001b[1;32m    537\u001b[0m         \u001b[0mustart\u001b[0m \u001b[0;34m=\u001b[0m \u001b[0mdatetime\u001b[0m\u001b[0;34m.\u001b[0m\u001b[0mnow\u001b[0m\u001b[0;34m(\u001b[0m\u001b[0;34m)\u001b[0m\u001b[0;34m.\u001b[0m\u001b[0mtimestamp\u001b[0m\u001b[0;34m(\u001b[0m\u001b[0;34m)\u001b[0m\u001b[0;34m\u001b[0m\u001b[0;34m\u001b[0m\u001b[0m\n\u001b[0;32m--> 538\u001b[0;31m         \u001b[0;32mif\u001b[0m \u001b[0;32mnot\u001b[0m \u001b[0mself\u001b[0m\u001b[0;34m.\u001b[0m\u001b[0mqueue\u001b[0m\u001b[0;34m(\u001b[0m\u001b[0mpost\u001b[0m\u001b[0;34m=\u001b[0m\u001b[0mpost\u001b[0m\u001b[0;34m)\u001b[0m\u001b[0;34m:\u001b[0m\u001b[0;34m\u001b[0m\u001b[0;34m\u001b[0m\u001b[0m\n\u001b[0m\u001b[1;32m    539\u001b[0m             \u001b[0mself\u001b[0m\u001b[0;34m.\u001b[0m\u001b[0m__set_error\u001b[0m\u001b[0;34m(\u001b[0m\u001b[0;34m\"Failed to queue job.\"\u001b[0m\u001b[0;34m)\u001b[0m\u001b[0;34m\u001b[0m\u001b[0;34m\u001b[0m\u001b[0m\n\u001b[1;32m    540\u001b[0m             \u001b[0mself\u001b[0m\u001b[0;34m.\u001b[0m\u001b[0m__set_status\u001b[0m\u001b[0;34m(\u001b[0m\u001b[0;34m\"Rejected\"\u001b[0m\u001b[0;34m)\u001b[0m\u001b[0;34m\u001b[0m\u001b[0;34m\u001b[0m\u001b[0m\n",
      "\u001b[0;32m~/anaconda3/lib/python3.9/site-packages/swifttools/swift_too/common.py\u001b[0m in \u001b[0;36mqueue\u001b[0;34m(self, post)\u001b[0m\n\u001b[1;32m    468\u001b[0m         \u001b[0;31m#            self.end = datetime.utcnow()\u001b[0m\u001b[0;34m\u001b[0m\u001b[0;34m\u001b[0m\u001b[0m\n\u001b[1;32m    469\u001b[0m \u001b[0;34m\u001b[0m\u001b[0m\n\u001b[0;32m--> 470\u001b[0;31m         \u001b[0;32mreturn\u001b[0m \u001b[0mself\u001b[0m\u001b[0;34m.\u001b[0m\u001b[0m__submit_jwt\u001b[0m\u001b[0;34m(\u001b[0m\u001b[0mpost\u001b[0m\u001b[0;34m=\u001b[0m\u001b[0mpost\u001b[0m\u001b[0;34m)\u001b[0m\u001b[0;34m\u001b[0m\u001b[0;34m\u001b[0m\u001b[0m\n\u001b[0m\u001b[1;32m    471\u001b[0m \u001b[0;34m\u001b[0m\u001b[0m\n\u001b[1;32m    472\u001b[0m     \u001b[0;34m@\u001b[0m\u001b[0mproperty\u001b[0m\u001b[0;34m\u001b[0m\u001b[0;34m\u001b[0m\u001b[0m\n",
      "\u001b[0;32m~/anaconda3/lib/python3.9/site-packages/swifttools/swift_too/common.py\u001b[0m in \u001b[0;36m__submit_jwt\u001b[0;34m(self, post)\u001b[0m\n\u001b[1;32m    490\u001b[0m         \u001b[0;31m# Which way will we fetch the data?\u001b[0m\u001b[0;34m\u001b[0m\u001b[0;34m\u001b[0m\u001b[0m\n\u001b[1;32m    491\u001b[0m         \u001b[0;32mif\u001b[0m \u001b[0mpost\u001b[0m\u001b[0;34m:\u001b[0m\u001b[0;34m\u001b[0m\u001b[0;34m\u001b[0m\u001b[0m\n\u001b[0;32m--> 492\u001b[0;31m             \u001b[0mr\u001b[0m \u001b[0;34m=\u001b[0m \u001b[0mself\u001b[0m\u001b[0;34m.\u001b[0m\u001b[0m__submit_post\u001b[0m\u001b[0;34m(\u001b[0m\u001b[0;34m)\u001b[0m\u001b[0;34m\u001b[0m\u001b[0;34m\u001b[0m\u001b[0m\n\u001b[0m\u001b[1;32m    493\u001b[0m         \u001b[0;32melse\u001b[0m\u001b[0;34m:\u001b[0m\u001b[0;34m\u001b[0m\u001b[0;34m\u001b[0m\u001b[0m\n\u001b[1;32m    494\u001b[0m             \u001b[0mr\u001b[0m \u001b[0;34m=\u001b[0m \u001b[0mself\u001b[0m\u001b[0;34m.\u001b[0m\u001b[0m__submit_get\u001b[0m\u001b[0;34m(\u001b[0m\u001b[0;34m)\u001b[0m\u001b[0;34m\u001b[0m\u001b[0;34m\u001b[0m\u001b[0m\n",
      "\u001b[0;32m~/anaconda3/lib/python3.9/site-packages/swifttools/swift_too/common.py\u001b[0m in \u001b[0;36m__submit_post\u001b[0;34m(self)\u001b[0m\n\u001b[1;32m    568\u001b[0m     \u001b[0;32mdef\u001b[0m \u001b[0m__submit_post\u001b[0m\u001b[0;34m(\u001b[0m\u001b[0mself\u001b[0m\u001b[0;34m)\u001b[0m\u001b[0;34m:\u001b[0m\u001b[0;34m\u001b[0m\u001b[0;34m\u001b[0m\u001b[0m\n\u001b[1;32m    569\u001b[0m         \u001b[0;34m\"\"\"Submit the request through the web based API, as a JWT through POST (recommended)\"\"\"\u001b[0m\u001b[0;34m\u001b[0m\u001b[0;34m\u001b[0m\u001b[0m\n\u001b[0;32m--> 570\u001b[0;31m         \u001b[0;32mreturn\u001b[0m \u001b[0mrequests\u001b[0m\u001b[0;34m.\u001b[0m\u001b[0mpost\u001b[0m\u001b[0;34m(\u001b[0m\u001b[0murl\u001b[0m\u001b[0;34m=\u001b[0m\u001b[0mAPI_URL\u001b[0m\u001b[0;34m,\u001b[0m \u001b[0mverify\u001b[0m\u001b[0;34m=\u001b[0m\u001b[0;32mTrue\u001b[0m\u001b[0;34m,\u001b[0m \u001b[0mdata\u001b[0m\u001b[0;34m=\u001b[0m\u001b[0;34m{\u001b[0m\u001b[0;34m\"jwt\"\u001b[0m\u001b[0;34m:\u001b[0m \u001b[0mself\u001b[0m\u001b[0;34m.\u001b[0m\u001b[0mjwt\u001b[0m\u001b[0;34m}\u001b[0m\u001b[0;34m)\u001b[0m\u001b[0;34m\u001b[0m\u001b[0;34m\u001b[0m\u001b[0m\n\u001b[0m\u001b[1;32m    571\u001b[0m \u001b[0;34m\u001b[0m\u001b[0m\n\u001b[1;32m    572\u001b[0m \u001b[0;34m\u001b[0m\u001b[0m\n",
      "\u001b[0;32m~/anaconda3/lib/python3.9/site-packages/requests/api.py\u001b[0m in \u001b[0;36mpost\u001b[0;34m(url, data, json, **kwargs)\u001b[0m\n\u001b[1;32m    115\u001b[0m     \"\"\"\n\u001b[1;32m    116\u001b[0m \u001b[0;34m\u001b[0m\u001b[0m\n\u001b[0;32m--> 117\u001b[0;31m     \u001b[0;32mreturn\u001b[0m \u001b[0mrequest\u001b[0m\u001b[0;34m(\u001b[0m\u001b[0;34m'post'\u001b[0m\u001b[0;34m,\u001b[0m \u001b[0murl\u001b[0m\u001b[0;34m,\u001b[0m \u001b[0mdata\u001b[0m\u001b[0;34m=\u001b[0m\u001b[0mdata\u001b[0m\u001b[0;34m,\u001b[0m \u001b[0mjson\u001b[0m\u001b[0;34m=\u001b[0m\u001b[0mjson\u001b[0m\u001b[0;34m,\u001b[0m \u001b[0;34m**\u001b[0m\u001b[0mkwargs\u001b[0m\u001b[0;34m)\u001b[0m\u001b[0;34m\u001b[0m\u001b[0;34m\u001b[0m\u001b[0m\n\u001b[0m\u001b[1;32m    118\u001b[0m \u001b[0;34m\u001b[0m\u001b[0m\n\u001b[1;32m    119\u001b[0m \u001b[0;34m\u001b[0m\u001b[0m\n",
      "\u001b[0;32m~/anaconda3/lib/python3.9/site-packages/requests/api.py\u001b[0m in \u001b[0;36mrequest\u001b[0;34m(method, url, **kwargs)\u001b[0m\n\u001b[1;32m     59\u001b[0m     \u001b[0;31m# cases, and look like a memory leak in others.\u001b[0m\u001b[0;34m\u001b[0m\u001b[0;34m\u001b[0m\u001b[0m\n\u001b[1;32m     60\u001b[0m     \u001b[0;32mwith\u001b[0m \u001b[0msessions\u001b[0m\u001b[0;34m.\u001b[0m\u001b[0mSession\u001b[0m\u001b[0;34m(\u001b[0m\u001b[0;34m)\u001b[0m \u001b[0;32mas\u001b[0m \u001b[0msession\u001b[0m\u001b[0;34m:\u001b[0m\u001b[0;34m\u001b[0m\u001b[0;34m\u001b[0m\u001b[0m\n\u001b[0;32m---> 61\u001b[0;31m         \u001b[0;32mreturn\u001b[0m \u001b[0msession\u001b[0m\u001b[0;34m.\u001b[0m\u001b[0mrequest\u001b[0m\u001b[0;34m(\u001b[0m\u001b[0mmethod\u001b[0m\u001b[0;34m=\u001b[0m\u001b[0mmethod\u001b[0m\u001b[0;34m,\u001b[0m \u001b[0murl\u001b[0m\u001b[0;34m=\u001b[0m\u001b[0murl\u001b[0m\u001b[0;34m,\u001b[0m \u001b[0;34m**\u001b[0m\u001b[0mkwargs\u001b[0m\u001b[0;34m)\u001b[0m\u001b[0;34m\u001b[0m\u001b[0;34m\u001b[0m\u001b[0m\n\u001b[0m\u001b[1;32m     62\u001b[0m \u001b[0;34m\u001b[0m\u001b[0m\n\u001b[1;32m     63\u001b[0m \u001b[0;34m\u001b[0m\u001b[0m\n",
      "\u001b[0;32m~/anaconda3/lib/python3.9/site-packages/requests/sessions.py\u001b[0m in \u001b[0;36mrequest\u001b[0;34m(self, method, url, params, data, headers, cookies, files, auth, timeout, allow_redirects, proxies, hooks, stream, verify, cert, json)\u001b[0m\n\u001b[1;32m    540\u001b[0m         }\n\u001b[1;32m    541\u001b[0m         \u001b[0msend_kwargs\u001b[0m\u001b[0;34m.\u001b[0m\u001b[0mupdate\u001b[0m\u001b[0;34m(\u001b[0m\u001b[0msettings\u001b[0m\u001b[0;34m)\u001b[0m\u001b[0;34m\u001b[0m\u001b[0;34m\u001b[0m\u001b[0m\n\u001b[0;32m--> 542\u001b[0;31m         \u001b[0mresp\u001b[0m \u001b[0;34m=\u001b[0m \u001b[0mself\u001b[0m\u001b[0;34m.\u001b[0m\u001b[0msend\u001b[0m\u001b[0;34m(\u001b[0m\u001b[0mprep\u001b[0m\u001b[0;34m,\u001b[0m \u001b[0;34m**\u001b[0m\u001b[0msend_kwargs\u001b[0m\u001b[0;34m)\u001b[0m\u001b[0;34m\u001b[0m\u001b[0;34m\u001b[0m\u001b[0m\n\u001b[0m\u001b[1;32m    543\u001b[0m \u001b[0;34m\u001b[0m\u001b[0m\n\u001b[1;32m    544\u001b[0m         \u001b[0;32mreturn\u001b[0m \u001b[0mresp\u001b[0m\u001b[0;34m\u001b[0m\u001b[0;34m\u001b[0m\u001b[0m\n",
      "\u001b[0;32m~/anaconda3/lib/python3.9/site-packages/requests/sessions.py\u001b[0m in \u001b[0;36msend\u001b[0;34m(self, request, **kwargs)\u001b[0m\n\u001b[1;32m    653\u001b[0m \u001b[0;34m\u001b[0m\u001b[0m\n\u001b[1;32m    654\u001b[0m         \u001b[0;31m# Send the request\u001b[0m\u001b[0;34m\u001b[0m\u001b[0;34m\u001b[0m\u001b[0m\n\u001b[0;32m--> 655\u001b[0;31m         \u001b[0mr\u001b[0m \u001b[0;34m=\u001b[0m \u001b[0madapter\u001b[0m\u001b[0;34m.\u001b[0m\u001b[0msend\u001b[0m\u001b[0;34m(\u001b[0m\u001b[0mrequest\u001b[0m\u001b[0;34m,\u001b[0m \u001b[0;34m**\u001b[0m\u001b[0mkwargs\u001b[0m\u001b[0;34m)\u001b[0m\u001b[0;34m\u001b[0m\u001b[0;34m\u001b[0m\u001b[0m\n\u001b[0m\u001b[1;32m    656\u001b[0m \u001b[0;34m\u001b[0m\u001b[0m\n\u001b[1;32m    657\u001b[0m         \u001b[0;31m# Total elapsed time of the request (approximately)\u001b[0m\u001b[0;34m\u001b[0m\u001b[0;34m\u001b[0m\u001b[0m\n",
      "\u001b[0;32m~/anaconda3/lib/python3.9/site-packages/requests/adapters.py\u001b[0m in \u001b[0;36msend\u001b[0;34m(self, request, stream, timeout, verify, cert, proxies)\u001b[0m\n\u001b[1;32m    437\u001b[0m         \u001b[0;32mtry\u001b[0m\u001b[0;34m:\u001b[0m\u001b[0;34m\u001b[0m\u001b[0;34m\u001b[0m\u001b[0m\n\u001b[1;32m    438\u001b[0m             \u001b[0;32mif\u001b[0m \u001b[0;32mnot\u001b[0m \u001b[0mchunked\u001b[0m\u001b[0;34m:\u001b[0m\u001b[0;34m\u001b[0m\u001b[0;34m\u001b[0m\u001b[0m\n\u001b[0;32m--> 439\u001b[0;31m                 resp = conn.urlopen(\n\u001b[0m\u001b[1;32m    440\u001b[0m                     \u001b[0mmethod\u001b[0m\u001b[0;34m=\u001b[0m\u001b[0mrequest\u001b[0m\u001b[0;34m.\u001b[0m\u001b[0mmethod\u001b[0m\u001b[0;34m,\u001b[0m\u001b[0;34m\u001b[0m\u001b[0;34m\u001b[0m\u001b[0m\n\u001b[1;32m    441\u001b[0m                     \u001b[0murl\u001b[0m\u001b[0;34m=\u001b[0m\u001b[0murl\u001b[0m\u001b[0;34m,\u001b[0m\u001b[0;34m\u001b[0m\u001b[0;34m\u001b[0m\u001b[0m\n",
      "\u001b[0;32m~/anaconda3/lib/python3.9/site-packages/urllib3/connectionpool.py\u001b[0m in \u001b[0;36murlopen\u001b[0;34m(self, method, url, body, headers, retries, redirect, assert_same_host, timeout, pool_timeout, release_conn, chunked, body_pos, **response_kw)\u001b[0m\n\u001b[1;32m    697\u001b[0m \u001b[0;34m\u001b[0m\u001b[0m\n\u001b[1;32m    698\u001b[0m             \u001b[0;31m# Make the request on the httplib connection object.\u001b[0m\u001b[0;34m\u001b[0m\u001b[0;34m\u001b[0m\u001b[0m\n\u001b[0;32m--> 699\u001b[0;31m             httplib_response = self._make_request(\n\u001b[0m\u001b[1;32m    700\u001b[0m                 \u001b[0mconn\u001b[0m\u001b[0;34m,\u001b[0m\u001b[0;34m\u001b[0m\u001b[0;34m\u001b[0m\u001b[0m\n\u001b[1;32m    701\u001b[0m                 \u001b[0mmethod\u001b[0m\u001b[0;34m,\u001b[0m\u001b[0;34m\u001b[0m\u001b[0;34m\u001b[0m\u001b[0m\n",
      "\u001b[0;32m~/anaconda3/lib/python3.9/site-packages/urllib3/connectionpool.py\u001b[0m in \u001b[0;36m_make_request\u001b[0;34m(self, conn, method, url, timeout, chunked, **httplib_request_kw)\u001b[0m\n\u001b[1;32m    380\u001b[0m         \u001b[0;31m# Trigger any extra validation we need to do.\u001b[0m\u001b[0;34m\u001b[0m\u001b[0;34m\u001b[0m\u001b[0m\n\u001b[1;32m    381\u001b[0m         \u001b[0;32mtry\u001b[0m\u001b[0;34m:\u001b[0m\u001b[0;34m\u001b[0m\u001b[0;34m\u001b[0m\u001b[0m\n\u001b[0;32m--> 382\u001b[0;31m             \u001b[0mself\u001b[0m\u001b[0;34m.\u001b[0m\u001b[0m_validate_conn\u001b[0m\u001b[0;34m(\u001b[0m\u001b[0mconn\u001b[0m\u001b[0;34m)\u001b[0m\u001b[0;34m\u001b[0m\u001b[0;34m\u001b[0m\u001b[0m\n\u001b[0m\u001b[1;32m    383\u001b[0m         \u001b[0;32mexcept\u001b[0m \u001b[0;34m(\u001b[0m\u001b[0mSocketTimeout\u001b[0m\u001b[0;34m,\u001b[0m \u001b[0mBaseSSLError\u001b[0m\u001b[0;34m)\u001b[0m \u001b[0;32mas\u001b[0m \u001b[0me\u001b[0m\u001b[0;34m:\u001b[0m\u001b[0;34m\u001b[0m\u001b[0;34m\u001b[0m\u001b[0m\n\u001b[1;32m    384\u001b[0m             \u001b[0;31m# Py2 raises this as a BaseSSLError, Py3 raises it as socket timeout.\u001b[0m\u001b[0;34m\u001b[0m\u001b[0;34m\u001b[0m\u001b[0m\n",
      "\u001b[0;32m~/anaconda3/lib/python3.9/site-packages/urllib3/connectionpool.py\u001b[0m in \u001b[0;36m_validate_conn\u001b[0;34m(self, conn)\u001b[0m\n\u001b[1;32m   1008\u001b[0m         \u001b[0;31m# Force connect early to allow us to validate the connection.\u001b[0m\u001b[0;34m\u001b[0m\u001b[0;34m\u001b[0m\u001b[0m\n\u001b[1;32m   1009\u001b[0m         \u001b[0;32mif\u001b[0m \u001b[0;32mnot\u001b[0m \u001b[0mgetattr\u001b[0m\u001b[0;34m(\u001b[0m\u001b[0mconn\u001b[0m\u001b[0;34m,\u001b[0m \u001b[0;34m\"sock\"\u001b[0m\u001b[0;34m,\u001b[0m \u001b[0;32mNone\u001b[0m\u001b[0;34m)\u001b[0m\u001b[0;34m:\u001b[0m  \u001b[0;31m# AppEngine might not have  `.sock`\u001b[0m\u001b[0;34m\u001b[0m\u001b[0;34m\u001b[0m\u001b[0m\n\u001b[0;32m-> 1010\u001b[0;31m             \u001b[0mconn\u001b[0m\u001b[0;34m.\u001b[0m\u001b[0mconnect\u001b[0m\u001b[0;34m(\u001b[0m\u001b[0;34m)\u001b[0m\u001b[0;34m\u001b[0m\u001b[0;34m\u001b[0m\u001b[0m\n\u001b[0m\u001b[1;32m   1011\u001b[0m \u001b[0;34m\u001b[0m\u001b[0m\n\u001b[1;32m   1012\u001b[0m         \u001b[0;32mif\u001b[0m \u001b[0;32mnot\u001b[0m \u001b[0mconn\u001b[0m\u001b[0;34m.\u001b[0m\u001b[0mis_verified\u001b[0m\u001b[0;34m:\u001b[0m\u001b[0;34m\u001b[0m\u001b[0;34m\u001b[0m\u001b[0m\n",
      "\u001b[0;32m~/anaconda3/lib/python3.9/site-packages/urllib3/connection.py\u001b[0m in \u001b[0;36mconnect\u001b[0;34m(self)\u001b[0m\n\u001b[1;32m    414\u001b[0m             \u001b[0mcontext\u001b[0m\u001b[0;34m.\u001b[0m\u001b[0mload_default_certs\u001b[0m\u001b[0;34m(\u001b[0m\u001b[0;34m)\u001b[0m\u001b[0;34m\u001b[0m\u001b[0;34m\u001b[0m\u001b[0m\n\u001b[1;32m    415\u001b[0m \u001b[0;34m\u001b[0m\u001b[0m\n\u001b[0;32m--> 416\u001b[0;31m         self.sock = ssl_wrap_socket(\n\u001b[0m\u001b[1;32m    417\u001b[0m             \u001b[0msock\u001b[0m\u001b[0;34m=\u001b[0m\u001b[0mconn\u001b[0m\u001b[0;34m,\u001b[0m\u001b[0;34m\u001b[0m\u001b[0;34m\u001b[0m\u001b[0m\n\u001b[1;32m    418\u001b[0m             \u001b[0mkeyfile\u001b[0m\u001b[0;34m=\u001b[0m\u001b[0mself\u001b[0m\u001b[0;34m.\u001b[0m\u001b[0mkey_file\u001b[0m\u001b[0;34m,\u001b[0m\u001b[0;34m\u001b[0m\u001b[0;34m\u001b[0m\u001b[0m\n",
      "\u001b[0;32m~/anaconda3/lib/python3.9/site-packages/urllib3/util/ssl_.py\u001b[0m in \u001b[0;36mssl_wrap_socket\u001b[0;34m(sock, keyfile, certfile, cert_reqs, ca_certs, server_hostname, ssl_version, ciphers, ssl_context, ca_cert_dir, key_password, ca_cert_data, tls_in_tls)\u001b[0m\n\u001b[1;32m    400\u001b[0m     \u001b[0;32mif\u001b[0m \u001b[0mca_certs\u001b[0m \u001b[0;32mor\u001b[0m \u001b[0mca_cert_dir\u001b[0m \u001b[0;32mor\u001b[0m \u001b[0mca_cert_data\u001b[0m\u001b[0;34m:\u001b[0m\u001b[0;34m\u001b[0m\u001b[0;34m\u001b[0m\u001b[0m\n\u001b[1;32m    401\u001b[0m         \u001b[0;32mtry\u001b[0m\u001b[0;34m:\u001b[0m\u001b[0;34m\u001b[0m\u001b[0;34m\u001b[0m\u001b[0m\n\u001b[0;32m--> 402\u001b[0;31m             \u001b[0mcontext\u001b[0m\u001b[0;34m.\u001b[0m\u001b[0mload_verify_locations\u001b[0m\u001b[0;34m(\u001b[0m\u001b[0mca_certs\u001b[0m\u001b[0;34m,\u001b[0m \u001b[0mca_cert_dir\u001b[0m\u001b[0;34m,\u001b[0m \u001b[0mca_cert_data\u001b[0m\u001b[0;34m)\u001b[0m\u001b[0;34m\u001b[0m\u001b[0;34m\u001b[0m\u001b[0m\n\u001b[0m\u001b[1;32m    403\u001b[0m         \u001b[0;32mexcept\u001b[0m \u001b[0;34m(\u001b[0m\u001b[0mIOError\u001b[0m\u001b[0;34m,\u001b[0m \u001b[0mOSError\u001b[0m\u001b[0;34m)\u001b[0m \u001b[0;32mas\u001b[0m \u001b[0me\u001b[0m\u001b[0;34m:\u001b[0m\u001b[0;34m\u001b[0m\u001b[0;34m\u001b[0m\u001b[0m\n\u001b[1;32m    404\u001b[0m             \u001b[0;32mraise\u001b[0m \u001b[0mSSLError\u001b[0m\u001b[0;34m(\u001b[0m\u001b[0me\u001b[0m\u001b[0;34m)\u001b[0m\u001b[0;34m\u001b[0m\u001b[0;34m\u001b[0m\u001b[0m\n",
      "\u001b[0;31mKeyboardInterrupt\u001b[0m: "
     ]
    }
   ],
   "source": [
    "start = time.time()\n",
    "test = get_swift_time_from_chime(chime_trigger, swift_ids)\n",
    "end = time.time()\n",
    "print(end - start)"
   ]
  },
  {
   "cell_type": "code",
   "execution_count": 92,
   "id": "ef0c348b",
   "metadata": {},
   "outputs": [
    {
     "name": "stdout",
     "output_type": "stream",
     "text": [
      "0.47190332412719727\n"
     ]
    }
   ],
   "source": [
    "start = time.time()\n",
    "test2 = get_swift_time_from_chime2(chime_trigger, swift_ids)\n",
    "end = time.time()\n",
    "print(end - start)"
   ]
  },
  {
   "cell_type": "code",
   "execution_count": 87,
   "id": "43730a88",
   "metadata": {},
   "outputs": [],
   "source": [
    "# next method of geting chime triger time\n",
    "\n",
    "def get_swift_time_from_chime(chime_trigger, swift_ids):\n",
    "    chime_trigger_str =[]\n",
    "    for i in range(len(chime_trigger)):\n",
    "        chime_trigger_str.append(chime_trigger[i].decode('utf-8'))\n",
    "    trigger = chime_trigger_str\n",
    "    cc = Clock()\n",
    "    cc.utctime = trigger\n",
    "    cc.submit()\n",
    "    cc.met\n",
    "    res = dict(zip(swift_ids, cc.met))\n",
    "    return res"
   ]
  },
  {
   "cell_type": "code",
   "execution_count": 60,
   "id": "5e46bfb6",
   "metadata": {
    "scrolled": false
   },
   "outputs": [
    {
     "data": {
      "text/plain": [
       "True"
      ]
     },
     "execution_count": 60,
     "metadata": {},
     "output_type": "execute_result"
    }
   ],
   "source": [
    "cc = Clock()\n",
    "cc.utctime = trigger[0:-40]\n",
    "cc.submit()\n",
    "#cc.met"
   ]
  },
  {
   "cell_type": "code",
   "execution_count": 49,
   "id": "cdb4c21e",
   "metadata": {},
   "outputs": [],
   "source": [
    "trigger = chime_trigger_str"
   ]
  },
  {
   "cell_type": "code",
   "execution_count": 59,
   "id": "25495a10",
   "metadata": {},
   "outputs": [
    {
     "ename": "NameError",
     "evalue": "name 'test' is not defined",
     "output_type": "error",
     "traceback": [
      "\u001b[0;31m---------------------------------------------------------------------------\u001b[0m",
      "\u001b[0;31mNameError\u001b[0m                                 Traceback (most recent call last)",
      "\u001b[0;32m/tmp/ipykernel_5380/1972508277.py\u001b[0m in \u001b[0;36m<module>\u001b[0;34m\u001b[0m\n\u001b[0;32m----> 1\u001b[0;31m \u001b[0mtest\u001b[0m \u001b[0;34m==\u001b[0m \u001b[0mtest2\u001b[0m\u001b[0;34m\u001b[0m\u001b[0;34m\u001b[0m\u001b[0m\n\u001b[0m",
      "\u001b[0;31mNameError\u001b[0m: name 'test' is not defined"
     ]
    }
   ],
   "source": [
    "test == test2"
   ]
  },
  {
   "cell_type": "code",
   "execution_count": 81,
   "id": "da69cb50",
   "metadata": {},
   "outputs": [
    {
     "data": {
      "text/plain": [
       "range(0, 5)"
      ]
     },
     "execution_count": 81,
     "metadata": {},
     "output_type": "execute_result"
    }
   ],
   "source": [
    "range(5)"
   ]
  },
  {
   "cell_type": "code",
   "execution_count": 82,
   "id": "2a3ef2ea",
   "metadata": {},
   "outputs": [
    {
     "name": "stdout",
     "output_type": "stream",
     "text": [
      "0\n",
      "1\n",
      "2\n",
      "3\n",
      "4\n"
     ]
    }
   ],
   "source": [
    "for i in range(5):\n",
    "    print(i)"
   ]
  },
  {
   "cell_type": "code",
   "execution_count": 90,
   "id": "0e682378",
   "metadata": {},
   "outputs": [
    {
     "data": {
      "text/plain": [
       "True"
      ]
     },
     "execution_count": 90,
     "metadata": {},
     "output_type": "execute_result"
    }
   ],
   "source": [
    "# making basic time window for search\n",
    "\n",
    "# we have chime_trigger which is a dict of [swift_id:swift_met_trigger]\n",
    "\n",
    "# lets try a basic bcgk window = [0,-20]s b4 trigger and evnt window is 3s\n",
    "\n",
    "evt_start = chime_trigger[swift_id] - 1.5\n",
    "evt_end = chime_trigger[swift_id] + 1.5\n",
    "\n",
    "bck_start = 0\n",
    "bck_end = chime_trigger[swift_id] - 20"
   ]
  },
  {
   "cell_type": "code",
   "execution_count": 98,
   "id": "30ad666e",
   "metadata": {},
   "outputs": [],
   "source": [
    "evt_start = float(test2[swift_id]) - 1.5"
   ]
  },
  {
   "cell_type": "code",
   "execution_count": 95,
   "id": "13d1b294",
   "metadata": {},
   "outputs": [
    {
     "data": {
      "text/plain": [
       "95944003.0"
      ]
     },
     "execution_count": 95,
     "metadata": {},
     "output_type": "execute_result"
    }
   ],
   "source": [
    "swift_id"
   ]
  },
  {
   "cell_type": "code",
   "execution_count": 99,
   "id": "10f5f533",
   "metadata": {},
   "outputs": [
    {
     "data": {
      "text/plain": [
       "636025856.073647"
      ]
     },
     "execution_count": 99,
     "metadata": {},
     "output_type": "execute_result"
    }
   ],
   "source": [
    "evt_start"
   ]
  },
  {
   "cell_type": "code",
   "execution_count": null,
   "id": "c1b02e81",
   "metadata": {},
   "outputs": [],
   "source": [
    "chime_"
   ]
  }
 ],
 "metadata": {
  "kernelspec": {
   "display_name": "Python 3 (ipykernel)",
   "language": "python",
   "name": "python3"
  },
  "language_info": {
   "codemirror_mode": {
    "name": "ipython",
    "version": 3
   },
   "file_extension": ".py",
   "mimetype": "text/x-python",
   "name": "python",
   "nbconvert_exporter": "python",
   "pygments_lexer": "ipython3",
   "version": "3.9.7"
  }
 },
 "nbformat": 4,
 "nbformat_minor": 5
}

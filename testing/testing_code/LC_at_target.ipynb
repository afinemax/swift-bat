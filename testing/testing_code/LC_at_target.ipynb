{
 "cells": [
  {
   "cell_type": "code",
   "execution_count": null,
   "id": "0e31b62b",
   "metadata": {},
   "outputs": [],
   "source": [
    "# make sky image\n",
    "        subprocess.run(['batfftimage frb2.dpi attitude = sw' + str(source_id) + 'sat.fits.gz detmask=frb.mask'\n",
    "                       + ' outfile = frb.sky bkgfile=bkg.dpi clobber =' + str(clobber)],\n",
    "                       shell=True, cwd = results_dir, stdout = f, stderr =f)"
   ]
  },
  {
   "cell_type": "code",
   "execution_count": null,
   "id": "4bc56ce6",
   "metadata": {},
   "outputs": [],
   "source": [
    "#batmaskwtevt, followed by batbinevt\n",
    "\n"
   ]
  }
 ],
 "metadata": {
  "kernelspec": {
   "display_name": "Python 3 (ipykernel)",
   "language": "python",
   "name": "python3"
  },
  "language_info": {
   "codemirror_mode": {
    "name": "ipython",
    "version": 3
   },
   "file_extension": ".py",
   "mimetype": "text/x-python",
   "name": "python",
   "nbconvert_exporter": "python",
   "pygments_lexer": "ipython3",
   "version": "3.9.7"
  }
 },
 "nbformat": 4,
 "nbformat_minor": 5
}

{
 "cells": [
  {
   "cell_type": "code",
   "execution_count": 1,
   "id": "b294ed5a",
   "metadata": {},
   "outputs": [],
   "source": [
    "# imports\n",
    "import numpy as np\n",
    "from astropy.io import fits\n"
   ]
  },
  {
   "cell_type": "code",
   "execution_count": 4,
   "id": "f40ae724",
   "metadata": {},
   "outputs": [
    {
     "data": {
      "text/plain": [
       "'/home/afinemax/khazad-dum/research/SURP2022/data/00031702073/bat/event'"
      ]
     },
     "execution_count": 4,
     "metadata": {},
     "output_type": "execute_result"
    }
   ],
   "source": [
    "pwd"
   ]
  },
  {
   "cell_type": "code",
   "execution_count": 5,
   "id": "8da3bdc3",
   "metadata": {},
   "outputs": [
    {
     "name": "stdout",
     "output_type": "stream",
     "text": [
      "\u001b[0m\u001b[01;31msw00031702073bevshpo_uf.evt.gz\u001b[0m  \u001b[01;31msw00031702073bevshsl_uf.evt.gz\u001b[0m\r\n"
     ]
    }
   ],
   "source": [
    "ls"
   ]
  },
  {
   "cell_type": "code",
   "execution_count": 6,
   "id": "c9ae0123",
   "metadata": {},
   "outputs": [
    {
     "name": "stdout",
     "output_type": "stream",
     "text": [
      "Filename: sw00031702073bevshpo_uf.evt.gz\n",
      "No.    Name      Ver    Type      Cards   Dimensions   Format\n",
      "  0  PRIMARY       1 PrimaryHDU     108   ()      \n",
      "  1  EVENTS        1 BinTableHDU    143   542312R x 8C   [1D, 1I, 1B, 1I, 1I, 1I, 1I, 1I]   \n",
      "  2  GTI           1 BinTableHDU     64   1R x 2C   [1D, 1D]   \n"
     ]
    }
   ],
   "source": [
    "with fits.open('sw00031702073bevshpo_uf.evt.gz') as hdul:\n",
    "        hdul.info()\n",
    "        header_dict = hdul[0].header\n",
    "        #ra = header_dict['RA_PNT']\n",
    "        #dec = header_dict['DEC_PNT']"
   ]
  },
  {
   "cell_type": "code",
   "execution_count": 7,
   "id": "4b58b1d5",
   "metadata": {
    "scrolled": false
   },
   "outputs": [
    {
     "data": {
      "text/plain": [
       "SIMPLE  =                    T / file does conform to FITS standard             \n",
       "BITPIX  =                    8 / number of bits per data pixel                  \n",
       "NAXIS   =                    0 / number of data axes                            \n",
       "EXTEND  =                    T / FITS dataset may contain extensions            \n",
       "COMMENT   FITS (Flexible Image Transport System) format is defined in 'Astronomy\n",
       "COMMENT   and Astrophysics', volume 376, page 359; bibcode: 2001A&A...376..359H \n",
       "TELESCOP= 'SWIFT   '           / Telescope (mission) name                       \n",
       "INSTRUME= 'BAT     '           / Instrument name                                \n",
       "OBS_ID  = '00031702073'        / Observation ID                                 \n",
       "TARG_ID =                31702 / Target ID                                      \n",
       "SEG_NUM =                   73 / Segment number                                 \n",
       "TIMESYS = 'TT      '           / time system                                    \n",
       "MJDREFI =                51910 / MJD reference day 01 Jan 2001 00:00:00         \n",
       "MJDREFF =        0.00074287037 / MJD reference (fraction of day) 01 Jan 2001 00:\n",
       "CLOCKAPP=                    F / If clock correction are applied (F/T)          \n",
       "TIMEUNIT= 's       '           / Time unit for timing header keywords           \n",
       "TSTART  = 6.374507640000000E+08 / time start                                    \n",
       "TSTOP   = 6.374508604006000E+08 / time stop                                     \n",
       "DATE-OBS= '2021-03-14T21:39:19' / Start date of observations                    \n",
       "DATE-END= '2021-03-14T21:42:39' / End date of observations                      \n",
       "ORIGIN  = 'NASA/GSFC'          / origin of fits file                            \n",
       "CREATOR = 'extractor v5.24'    / Extractor                                      \n",
       "TLM2FITS= 'V7.21'               / Telemetry converter version number            \n",
       "DATE    = '2021-03-24T18:18:22' / file creation date (YYYY-MM-DDThh:mm:ss UT)   \n",
       "NEVENTS =               542312 / Number of events                               \n",
       "DATAMODE= 'Event   '           / Datamode                                       \n",
       "OBJECT  = 'SSCyg   '           / Object name                                    \n",
       "ONTIME  = 9.640059995651245E+01 / On-source time                                \n",
       "EXPOSURE= 9.640059995651245E+01 / Exposure time                                 \n",
       "LIVETIME= 9.640059995651245E+01 / On-source time                                \n",
       "TELAPSE = 9.640059995651245E+01 / elapsed time                                  \n",
       "MJD-OBS = 5.928790310398148E+04 / MJD of data start time                        \n",
       "TIMEREF = 'LOCAL   '           / reference time                                 \n",
       "EQUINOX =            2.000E+03 / Equinox of celestial coord system              \n",
       "RADECSYS= 'FK5     '           / celestial coord system                         \n",
       "USER    = 'apsop   '           / User name of creator                           \n",
       "FILIN001= 'sw00031702073bevshsp_uf.evt' / Input file name                       \n",
       "TIMEZERO= 0.000000000000000E+00 / Time Zero                                     \n",
       "CHECKSUM= 'QRWTTPWRQPWRQPWR'   / HDU checksum updated 2021-03-24T18:20:13       \n",
       "DATASUM = '         0'         / data unit checksum updated 2021-03-24T18:18:22 \n",
       "PROCVER = '3.18.15 '           / Processing script version                      \n",
       "SOFTVER = 'Hea_27Jul2015_V6.17_Swift_Rel4.5(Bld34)_27Jul2015_SDCpatch_18'       \n",
       "CALDBVER= 'b20171016_u20201215_x20200724_m20210113' / CALDB index versions used \n",
       "SEQPNUM =                    4 / Number of times the dataset processed          \n",
       "RA_OBJ  =     325.614176879475 / [deg] R.A. Object                              \n",
       "DEC_OBJ =     43.5923263911541 / [deg] Dec Object                               \n",
       "RA_PNT  =     325.614176879475 / [deg] RA pointing                              \n",
       "DEC_PNT =     43.5923263911541 / [deg] Dec pointing                             \n",
       "PA_PNT  =     143.214041096217 / [deg] Position angle (roll)                    \n",
       "CATSRC  =                    F                                                  \n",
       "ATTFLAG = '110     '           / Attitude file: 100=sat, x10=pat, xx1=uat       \n",
       "UTCFINIT=    -26.6681000000000 / [s] UTCF at TSTART                             \n",
       "                                                                                \n",
       "                                                                                \n",
       "                                                                                \n",
       "                                                                                \n",
       "                                                                                \n",
       "                                                                                \n",
       "                                                                                \n",
       "                                                                                \n",
       "                                                                                \n",
       "                                                                                \n",
       "                                                                                \n",
       "                                                                                \n",
       "                                                                                \n",
       "                                                                                \n",
       "                                                                                \n",
       "                                                                                \n",
       "                                                                                \n",
       "                                                                                \n",
       "                                                                                \n",
       "                                                                                \n",
       "                                                                                \n",
       "                                                                                \n",
       "                                                                                \n",
       "                                                                                \n",
       "                                                                                \n",
       "                                                                                \n",
       "                                                                                \n",
       "                                                                                \n",
       "                                                                                \n",
       "                                                                                \n",
       "                                                                                \n",
       "                                                                                \n",
       "                                                                                \n",
       "                                                                                \n",
       "                                                                                \n",
       "                                                                                \n",
       "                                                                                \n",
       "                                                                                \n",
       "                                                                                \n",
       "                                                                                \n",
       "                                                                                \n",
       "                                                                                \n",
       "                                                                                \n",
       "                                                                                \n",
       "                                                                                \n",
       "                                                                                \n",
       "                                                                                \n",
       "                                                                                \n",
       "                                                                                \n",
       "                                                                                \n",
       "                                                                                \n",
       "                                                                                \n",
       "                                                                                \n",
       "                                                                                \n",
       "                                                                                \n",
       "                                                                                "
      ]
     },
     "execution_count": 7,
     "metadata": {},
     "output_type": "execute_result"
    }
   ],
   "source": [
    "header_dict"
   ]
  },
  {
   "cell_type": "code",
   "execution_count": 8,
   "id": "078c5b6d",
   "metadata": {},
   "outputs": [
    {
     "ename": "SyntaxError",
     "evalue": "invalid syntax (2153792862.py, line 1)",
     "output_type": "error",
     "traceback": [
      "\u001b[0;36m  File \u001b[0;32m\"/tmp/ipykernel_6772/2153792862.py\"\u001b[0;36m, line \u001b[0;32m1\u001b[0m\n\u001b[0;31m    batgrbproduct indir= 00031702073 outdir=test ra =BLIND dec=BLIND shortfix = scaledmap trigstop =6.374508604006000E+08 backstrt = 6.374508604000000E+08 backstop = 6.37450860400000E+08 trigtime=6.374507640000000E+08\u001b[0m\n\u001b[0m                  ^\u001b[0m\n\u001b[0;31mSyntaxError\u001b[0m\u001b[0;31m:\u001b[0m invalid syntax\n"
     ]
    }
   ],
   "source": [
    "batgrbproduct indir= 00031702073 outdir=test ra =BLIND dec=BLIND trigstop =6.374508604006000E+08 backstrt = 637450764\n",
    "backstop = 637450704 trigtime=6.374507640000000E+08\n"
   ]
  },
  {
   "cell_type": "code",
   "execution_count": null,
   "id": "5be82f07",
   "metadata": {},
   "outputs": [],
   "source": [
    "637450764"
   ]
  }
 ],
 "metadata": {
  "kernelspec": {
   "display_name": "Python 3 (ipykernel)",
   "language": "python",
   "name": "python3"
  },
  "language_info": {
   "codemirror_mode": {
    "name": "ipython",
    "version": 3
   },
   "file_extension": ".py",
   "mimetype": "text/x-python",
   "name": "python",
   "nbconvert_exporter": "python",
   "pygments_lexer": "ipython3",
   "version": "3.9.7"
  }
 },
 "nbformat": 4,
 "nbformat_minor": 5
}
